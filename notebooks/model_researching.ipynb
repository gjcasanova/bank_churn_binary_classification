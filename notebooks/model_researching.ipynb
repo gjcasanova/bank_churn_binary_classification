{
 "cells": [
  {
   "cell_type": "code",
   "execution_count": 38,
   "metadata": {},
   "outputs": [],
   "source": [
    "import pandas as pd\n",
    "import numpy as np\n",
    "from sklearn.model_selection import train_test_split\n",
    "from sklearn.preprocessing import StandardScaler, OneHotEncoder\n",
    "from sklearn.pipeline import Pipeline\n",
    "from sklearn.compose import ColumnTransformer\n",
    "from tensorflow.keras import models, layers\n",
    "from time import time"
   ]
  },
  {
   "cell_type": "code",
   "execution_count": 2,
   "metadata": {},
   "outputs": [],
   "source": [
    "dataset = pd.read_csv('../data/raw/train.csv')\n",
    "\n",
    "X = dataset.drop(['Exited'], axis=1)\n",
    "y = dataset['Exited']\n",
    "\n",
    "X_train, X_test, y_train, y_test = train_test_split(X, y, test_size=0.2, random_state=42, stratify=y)"
   ]
  },
  {
   "cell_type": "markdown",
   "metadata": {},
   "source": [
    "### Preprocessing data pipeline"
   ]
  },
  {
   "cell_type": "code",
   "execution_count": 3,
   "metadata": {},
   "outputs": [],
   "source": [
    "categorical_preprocessor = ColumnTransformer(\n",
    "    transformers = [\n",
    "        ('geography_encoder', OneHotEncoder(), ['Geography']),\n",
    "        ('gender_encoder', OneHotEncoder(), ['Gender']),\n",
    "        (\n",
    "            'passthrough', 'passthrough',\n",
    "            ['CreditScore', 'Age', 'Tenure', 'Balance', 'NumOfProducts', 'HasCrCard', 'IsActiveMember', 'EstimatedSalary']\n",
    "        )\n",
    "    ]\n",
    ")"
   ]
  },
  {
   "cell_type": "code",
   "execution_count": 4,
   "metadata": {},
   "outputs": [],
   "source": [
    "numerical_preprocessor = ColumnTransformer(\n",
    "    transformers = [\n",
    "        ('std_scaler', StandardScaler(), ['CreditScore', 'Age', 'Tenure', 'Balance', 'NumOfProducts', 'Has'])\n",
    "    ]\n",
    ")"
   ]
  },
  {
   "cell_type": "code",
   "execution_count": 5,
   "metadata": {},
   "outputs": [],
   "source": [
    "preprocessing_pipeline = Pipeline([\n",
    "    ('categorical_preprocessor', categorical_preprocessor),\n",
    "    ('std_scaler', StandardScaler())\n",
    "])"
   ]
  },
  {
   "cell_type": "markdown",
   "metadata": {},
   "source": [
    "### Model creation"
   ]
  },
  {
   "cell_type": "code",
   "execution_count": 41,
   "metadata": {},
   "outputs": [],
   "source": [
    "model = models.Sequential(\n",
    "    layers = [\n",
    "        layers.Dense(10, activation='relu'),\n",
    "        layers.Dense(1, activation='sigmoid')\n",
    "    ]\n",
    ")\n",
    "\n",
    "model.compile(optimizer='adam', loss='binary_crossentropy', metrics=['AUC'], run_eagerly=True)"
   ]
  },
  {
   "cell_type": "code",
   "execution_count": 20,
   "metadata": {},
   "outputs": [],
   "source": [
    "X_preprocessed_train = preprocessing_pipeline.fit_transform(X_train)"
   ]
  },
  {
   "cell_type": "code",
   "execution_count": 21,
   "metadata": {},
   "outputs": [
    {
     "name": "stdout",
     "output_type": "stream",
     "text": [
      "Epoch 1/10\n",
      "207/207 [==============================] - 6s 28ms/step - loss: 0.5544 - auc: 0.5748 - val_loss: 0.4731 - val_auc: 0.7224\n",
      "Epoch 2/10\n",
      "207/207 [==============================] - 6s 27ms/step - loss: 0.4321 - auc: 0.7791 - val_loss: 0.4083 - val_auc: 0.8132\n",
      "Epoch 3/10\n",
      "207/207 [==============================] - 5s 24ms/step - loss: 0.3912 - auc: 0.8256 - val_loss: 0.3825 - val_auc: 0.8394\n",
      "Epoch 4/10\n",
      "207/207 [==============================] - 5s 26ms/step - loss: 0.3727 - auc: 0.8447 - val_loss: 0.3680 - val_auc: 0.8534\n",
      "Epoch 5/10\n",
      "207/207 [==============================] - 5s 26ms/step - loss: 0.3612 - auc: 0.8563 - val_loss: 0.3580 - val_auc: 0.8630\n",
      "Epoch 6/10\n",
      "207/207 [==============================] - 5s 25ms/step - loss: 0.3535 - auc: 0.8635 - val_loss: 0.3519 - val_auc: 0.8678\n",
      "Epoch 7/10\n",
      "207/207 [==============================] - 5s 25ms/step - loss: 0.3484 - auc: 0.8676 - val_loss: 0.3473 - val_auc: 0.8715\n",
      "Epoch 8/10\n",
      "207/207 [==============================] - 5s 25ms/step - loss: 0.3448 - auc: 0.8704 - val_loss: 0.3436 - val_auc: 0.8743\n",
      "Epoch 9/10\n",
      "207/207 [==============================] - 5s 26ms/step - loss: 0.3420 - auc: 0.8726 - val_loss: 0.3409 - val_auc: 0.8763\n",
      "Epoch 10/10\n",
      "207/207 [==============================] - 5s 25ms/step - loss: 0.3397 - auc: 0.8742 - val_loss: 0.3384 - val_auc: 0.8778\n"
     ]
    },
    {
     "data": {
      "text/plain": [
       "<keras.src.callbacks.History at 0x7f90ac75b490>"
      ]
     },
     "execution_count": 21,
     "metadata": {},
     "output_type": "execute_result"
    }
   ],
   "source": [
    "model.fit(X_preprocessed_train, y_train, epochs=10, batch_size=512, validation_split=0.2)"
   ]
  },
  {
   "cell_type": "markdown",
   "metadata": {},
   "source": [
    "### Test model"
   ]
  },
  {
   "cell_type": "markdown",
   "metadata": {},
   "source": [
    "### Export solution"
   ]
  },
  {
   "cell_type": "code",
   "execution_count": 32,
   "metadata": {},
   "outputs": [
    {
     "name": "stdout",
     "output_type": "stream",
     "text": [
      "3439/3439 [==============================] - 6s 2ms/step\n"
     ]
    }
   ],
   "source": [
    "submission_dataset = pd.read_csv('../data/raw/sample_submission.csv')\n",
    "X_submission_dataset = pd.read_csv('../data/raw/test.csv')\n",
    "X_preprocessed_submission_dataset = preprocessing_pipeline.transform(X_submission_dataset)\n",
    "\n",
    "y_submission_predictions = model.predict(X_preprocessed_submission_dataset)\n",
    "\n",
    "threshold = 0.5\n",
    "y_predicted = (y_submission_predictions > threshold).astype(int)"
   ]
  },
  {
   "cell_type": "code",
   "execution_count": 35,
   "metadata": {},
   "outputs": [],
   "source": [
    "submission_dataset['Exited'] = y_predicted"
   ]
  },
  {
   "cell_type": "code",
   "execution_count": 40,
   "metadata": {},
   "outputs": [],
   "source": [
    "submission_dataset.to_csv(f'../data/output/submission_{round(time())}.csv', index=False)"
   ]
  }
 ],
 "metadata": {
  "kernelspec": {
   "display_name": ".venv",
   "language": "python",
   "name": "python3"
  },
  "language_info": {
   "codemirror_mode": {
    "name": "ipython",
    "version": 3
   },
   "file_extension": ".py",
   "mimetype": "text/x-python",
   "name": "python",
   "nbconvert_exporter": "python",
   "pygments_lexer": "ipython3",
   "version": "3.11.2"
  }
 },
 "nbformat": 4,
 "nbformat_minor": 2
}
