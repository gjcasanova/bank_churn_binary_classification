{
 "cells": [
  {
   "cell_type": "code",
   "execution_count": null,
   "metadata": {},
   "outputs": [],
   "source": [
    "import pandas as pd\n",
    "import numpy as np\n",
    "import matplotlib.pyplot as plt\n",
    "from sklearn.model_selection import train_test_split\n",
    "from sklearn.metrics import roc_curve, roc_auc_score\n",
    "from sklearn.preprocessing import StandardScaler, OneHotEncoder, OrdinalEncoder\n",
    "from sklearn.pipeline import Pipeline\n",
    "from sklearn.compose import ColumnTransformer\n",
    "from tensorflow.keras import models, layers\n",
    "import keras_tuner"
   ]
  },
  {
   "cell_type": "code",
   "execution_count": null,
   "metadata": {},
   "outputs": [],
   "source": [
    "dataset = pd.read_csv('../data/raw/train.csv')\n",
    "\n",
    "X = dataset.drop(['Exited'], axis=1)\n",
    "y = dataset['Exited']\n",
    "\n",
    "X_train, X_temp, y_train, y_temp = train_test_split(X, y, train_size=0.7, random_state=42, stratify=y)\n",
    "X_test, X_val, y_test, y_val = train_test_split(X_temp, y_temp, test_size=0.5, random_state=42, stratify=y_temp)\n",
    "\n",
    "X_train"
   ]
  },
  {
   "cell_type": "markdown",
   "metadata": {},
   "source": [
    "### Preprocessing data pipeline"
   ]
  },
  {
   "cell_type": "code",
   "execution_count": null,
   "metadata": {},
   "outputs": [],
   "source": [
    "preprocessor = ColumnTransformer(\n",
    "    transformers = [\n",
    "        ('geography_encoder', OneHotEncoder(), ['Geography']),\n",
    "        ('gender_encoder', OrdinalEncoder(), ['Gender']),\n",
    "        ('std_encoder', StandardScaler(), [\n",
    "            'CreditScore', 'Age', 'Tenure', 'Balance', 'NumOfProducts', 'EstimatedSalary'\n",
    "        ]),\n",
    "        ('passthrough', 'passthrough', ['HasCrCard', 'IsActiveMember'])\n",
    "    ]\n",
    ")"
   ]
  },
  {
   "cell_type": "code",
   "execution_count": null,
   "metadata": {},
   "outputs": [],
   "source": [
    "X_train_clean = preprocessor.fit_transform(X_train)\n",
    "X_val_clean = preprocessor.transform(X_val)\n",
    "X_test_clean = preprocessor.transform(X_test)"
   ]
  },
  {
   "cell_type": "markdown",
   "metadata": {},
   "source": [
    "### Model creation"
   ]
  },
  {
   "cell_type": "code",
   "execution_count": null,
   "metadata": {},
   "outputs": [],
   "source": [
    "def build_model(hp):\n",
    "    model = models.Sequential(\n",
    "        layers = [\n",
    "            layers.Dense(\n",
    "                units=hp.Choice('units_0', values=[16, 32, 64, 128, 256]),\n",
    "                activation=hp.Choice('activation_0', values=['relu', 'tanh', 'sigmoid'])\n",
    "            ),\n",
    "            layers.Dense(\n",
    "                units=hp.Choice('units_1', values=[16, 32, 64, 128, 256]),\n",
    "                activation=hp.Choice('activation_1', values=['relu', 'tanh', 'sigmoid'])\n",
    "            ),\n",
    "            layers.Dense(\n",
    "                units=hp.Choice('units_2', values=[16, 32, 64, 128, 256]),\n",
    "                activation=hp.Choice('activation_2', values=['relu', 'tanh', 'sigmoid'])\n",
    "            ),\n",
    "            layers.Dense(\n",
    "                units=hp.Choice('units_3', values=[16, 32, 64, 128, 256]),\n",
    "                activation=hp.Choice('activation_3', values=['relu', 'tanh', 'sigmoid']),\n",
    "                kernel_regularizer=hp.Choice('kernel_regularizer_3', values=['l1', 'l2', 'l1_l2'])\n",
    "            ),\n",
    "            layers.Dense(\n",
    "                units=hp.Choice('units_4', values=[16, 32, 64, 128, 256]),\n",
    "                activation=hp.Choice('activation_4', values=['relu', 'tanh', 'sigmoid'])\n",
    "            ),\n",
    "            layers.Dense(\n",
    "                units=hp.Choice('units_5', values=[16, 32, 64, 128, 256]),\n",
    "                activation=hp.Choice('activation_5', values=['relu', 'tanh', 'sigmoid'])\n",
    "            ),\n",
    "            layers.Dense(1, activation='sigmoid')\n",
    "        ]\n",
    "    )\n",
    "\n",
    "    model.compile(\n",
    "        optimizer=hp.Choice('optimizer', values=['adam', 'sgd']),\n",
    "        loss='binary_crossentropy',\n",
    "        metrics='AUC'\n",
    "    )\n",
    "\n",
    "    return model"
   ]
  },
  {
   "cell_type": "code",
   "execution_count": null,
   "metadata": {},
   "outputs": [],
   "source": [
    "tuner = keras_tuner.tuners.Hyperband(\n",
    "    hypermodel=build_model,\n",
    "    objective=keras_tuner.Objective('val_auc', direction='max'),\n",
    "    max_epochs=50,\n",
    "    directory='../models/',\n",
    "    project_name='bank_churn_binary_classification',\n",
    "    seed=42,\n",
    "    overwrite=True\n",
    ")"
   ]
  },
  {
   "cell_type": "code",
   "execution_count": null,
   "metadata": {},
   "outputs": [],
   "source": [
    "tuner.search(\n",
    "    X_train_clean, y_train, batch_size=512, validation_data=(X_val_clean, y_val)\n",
    ")"
   ]
  },
  {
   "cell_type": "markdown",
   "metadata": {},
   "source": [
    "### Model validation"
   ]
  },
  {
   "cell_type": "code",
   "execution_count": null,
   "metadata": {},
   "outputs": [],
   "source": [
    "best_model = tuner.get_best_models(1)[0]\n",
    "y_val_predicted = best_model.predict(X_val_clean)"
   ]
  },
  {
   "cell_type": "code",
   "execution_count": null,
   "metadata": {},
   "outputs": [],
   "source": [
    "fpr, tpr, thresholds = roc_curve(y_val, y_val_predicted)\n",
    "threshold = thresholds[np.argmax(tpr * (1 - fpr))]"
   ]
  },
  {
   "cell_type": "code",
   "execution_count": null,
   "metadata": {},
   "outputs": [],
   "source": [
    "plt.plot(fpr, thresholds, label='FPR')\n",
    "plt.plot(1-tpr, thresholds, label='1 - TPR')\n",
    "plt.plot([threshold, threshold], [0, 1], label='Optime thresshold')\n",
    "plt.xlabel('Threshold')\n",
    "plt.title('ROC Curve')\n",
    "plt.legend()\n",
    "plt.plot()"
   ]
  },
  {
   "cell_type": "code",
   "execution_count": null,
   "metadata": {},
   "outputs": [],
   "source": [
    "y_test_predicted = (best_model.predict(X_test_clean) > threshold).astype(int)\n",
    "auc_score_test = roc_auc_score(y_test, y_test_predicted)\n",
    "print(f'ROC AUC Score: {auc_score_test}')"
   ]
  },
  {
   "cell_type": "markdown",
   "metadata": {},
   "source": [
    "### Export solution"
   ]
  },
  {
   "cell_type": "code",
   "execution_count": null,
   "metadata": {},
   "outputs": [],
   "source": [
    "submission_dataset = pd.read_csv('../data/raw/sample_submission.csv')\n",
    "X_submission = pd.read_csv('../data/raw/test.csv')\n",
    "X_submission_clean = preprocessor.transform(X_submission)\n",
    "\n",
    "y_submission_predicted = (best_model.predict(X_submission_clean) > threshold).astype(int)\n",
    "\n",
    "submission_dataset['Exited'] = y_submission_predicted\n",
    "\n",
    "file_name = f'submission'\n",
    "submission_dataset.to_csv(f'../data/processed/{file_name}.csv', index=False)\n",
    "\n",
    "print(f'File {file_name} saved')"
   ]
  }
 ],
 "metadata": {
  "kernelspec": {
   "display_name": ".venv",
   "language": "python",
   "name": "python3"
  },
  "language_info": {
   "codemirror_mode": {
    "name": "ipython",
    "version": 3
   },
   "file_extension": ".py",
   "mimetype": "text/x-python",
   "name": "python",
   "nbconvert_exporter": "python",
   "pygments_lexer": "ipython3",
   "version": "3.11.2"
  }
 },
 "nbformat": 4,
 "nbformat_minor": 2
}
